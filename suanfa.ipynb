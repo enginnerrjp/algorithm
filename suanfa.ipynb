{
 "cells": [
  {
   "cell_type": "markdown",
   "metadata": {},
   "source": [
    "## 深度优先算法"
   ]
  },
  {
   "cell_type": "code",
   "execution_count": 1,
   "metadata": {},
   "outputs": [],
   "source": [
    "class Node(object):\n",
    "    def __init__(self,data,left=None,right=None):\n",
    "        self.data = data\n",
    "        self.right = right\n",
    "        self.left = left\n",
    "\n",
    "tree = Node(1,\n",
    "           Node(2,Node(4),Node(5,Node(7),Node(8))),\n",
    "           Node(3,right=Node(6)))"
   ]
  },
  {
   "cell_type": "code",
   "execution_count": 2,
   "metadata": {},
   "outputs": [
    {
     "name": "stdout",
     "output_type": "stream",
     "text": [
      "1,2,4,5,7,8,3,6,"
     ]
    }
   ],
   "source": [
    "#栈实现\n",
    "def visit_tree(root):\n",
    "    if not root:return\n",
    "    stack = [root]\n",
    "    while stack:\n",
    "        current = stack.pop()\n",
    "        print(current.data,end=',')\n",
    "        if current.right:\n",
    "            stack.append(current.right)\n",
    "        if current.left:\n",
    "            stack.append(current.left)\n",
    "visit_tree(tree)"
   ]
  },
  {
   "cell_type": "code",
   "execution_count": 3,
   "metadata": {},
   "outputs": [
    {
     "name": "stdout",
     "output_type": "stream",
     "text": [
      "1,2,4,5,7,8,3,6,"
     ]
    }
   ],
   "source": [
    "#递归实现\n",
    "def visit_tree(root):\n",
    "    if not root:return\n",
    "    print(root.data,end=',')\n",
    "    visit_tree(root.left)\n",
    "    visit_tree(root.right)\n",
    "\n",
    "visit_tree(tree)"
   ]
  },
  {
   "cell_type": "markdown",
   "metadata": {},
   "source": [
    "## 广度优先算法"
   ]
  },
  {
   "cell_type": "code",
   "execution_count": 4,
   "metadata": {},
   "outputs": [
    {
     "name": "stdout",
     "output_type": "stream",
     "text": [
      "1,2,3,4,5,6,7,8,"
     ]
    }
   ],
   "source": [
    "def visit_tree(root):\n",
    "    if not root:return\n",
    "    queue = [root]\n",
    "    while queue:\n",
    "        current = queue.pop(0)\n",
    "        print(current.data,end=',')\n",
    "        if current.left:\n",
    "            queue.append(current.left)\n",
    "        if current.right:\n",
    "            queue.append(current.right)\n",
    "visit_tree(tree)"
   ]
  },
  {
   "cell_type": "markdown",
   "metadata": {},
   "source": [
    "## 括号匹配问题"
   ]
  },
  {
   "cell_type": "code",
   "execution_count": 5,
   "metadata": {},
   "outputs": [
    {
     "data": {
      "text/plain": [
       "True"
      ]
     },
     "execution_count": 5,
     "metadata": {},
     "output_type": "execute_result"
    }
   ],
   "source": [
    "sentence=\"0{abc}{de}(f)[(g)]9\"\n",
    "# sentence=\"0){abc}{de}(f)[(g)9\"\n",
    "from collections import deque\n",
    "def bracket_match(sentence):\n",
    "    brackets_map = {\n",
    "        ')': '(' , \n",
    "        ']': '[' , \n",
    "        '}': '{' ,\n",
    "        '>': '<' \n",
    "    }\n",
    "    stack = deque()\n",
    "    for i in sentence:\n",
    "        if i in brackets_map.values():\n",
    "            stack.append(i)\n",
    "        if i in brackets_map:\n",
    "            if not stack or stack[-1] != brackets_map[i]:\n",
    "                return False\n",
    "            else:\n",
    "                stack.pop()\n",
    "    return True if not stack else False\n",
    "\n",
    "bracket_match(sentence)"
   ]
  },
  {
   "cell_type": "markdown",
   "metadata": {},
   "source": [
    "## hash 表的使用"
   ]
  },
  {
   "cell_type": "code",
   "execution_count": 6,
   "metadata": {},
   "outputs": [],
   "source": [
    "# nums = [1, 4, 3, 2, 6, 5]中找出和为target = 6的序列\n",
    "from collections import defaultdict\n",
    "\n",
    "def find_target(target,num_list):\n",
    "    dic = defaultdict(lambda:0)\n",
    "    for i in num_list:\n",
    "        dic[i] +=1\n",
    "    print(dic)\n",
    "    li =[]\n",
    "    for i in num_list:\n",
    "        if not dic[i]:\n",
    "            continue\n",
    "        dic[i] -= 1\n",
    "        if dic[target-i]:\n",
    "            li.append((i,target-i))\n",
    "            dic[target-i] -= 1\n",
    "#             dic[i] -= 1\n",
    "    return li\n",
    "            "
   ]
  },
  {
   "cell_type": "code",
   "execution_count": 7,
   "metadata": {},
   "outputs": [],
   "source": [
    "num_list=[0,1, 4, 3,3,3, 2, 6, 5,0]"
   ]
  },
  {
   "cell_type": "code",
   "execution_count": 8,
   "metadata": {},
   "outputs": [
    {
     "name": "stdout",
     "output_type": "stream",
     "text": [
      "defaultdict(<function find_target.<locals>.<lambda> at 0x00000260DF347CA8>, {0: 2, 1: 1, 4: 1, 3: 3, 2: 1, 6: 1, 5: 1})\n"
     ]
    },
    {
     "data": {
      "text/plain": [
       "[(0, 6), (1, 5), (4, 2), (3, 3)]"
      ]
     },
     "execution_count": 8,
     "metadata": {},
     "output_type": "execute_result"
    }
   ],
   "source": [
    "find_target(6,num_list=num_list)"
   ]
  },
  {
   "cell_type": "code",
   "execution_count": 9,
   "metadata": {},
   "outputs": [],
   "source": [
    "def find(num_list, sum_value):\n",
    "    \"\"\"\n",
    "    @param num_list：数字列表\n",
    "    @param sum_value：数字之和\n",
    "    \"\"\"\n",
    "    # 第一遍历，O(N)，建立哈希表\n",
    "    hash_dict = {}\n",
    "    for val in num_list:\n",
    "        if val not in hash_dict:\n",
    "            hash_dict[val] = 0\n",
    "        # value是这个值的出现次数\n",
    "        hash_dict[val] += 1\n",
    "    print(hash_dict)\n",
    "    \n",
    "    # 第二次遍历，O(N)\n",
    "    # 遇到每个元素val，判断sum_value-val在不在哈希表中\n",
    "    for val in num_list:\n",
    "        if hash_dict[val] == 0:\n",
    "            continue\n",
    "        # 使用次数减一\n",
    "        hash_dict[val] -= 1\n",
    "        # 如果减去的数字也在表中，则说明匹配成功\n",
    "        if hash_dict.get(sum_value-val, 0) > 0:\n",
    "            print(val, sum_value-val) \n",
    "            hash_dict[sum_value-val] -= 1"
   ]
  },
  {
   "cell_type": "code",
   "execution_count": 10,
   "metadata": {},
   "outputs": [
    {
     "name": "stdout",
     "output_type": "stream",
     "text": [
      "{0: 2, 1: 1, 4: 1, 3: 3, 2: 1, 6: 1, 5: 1}\n",
      "0 6\n",
      "1 5\n",
      "4 2\n",
      "3 3\n"
     ]
    }
   ],
   "source": [
    "num_list = [0,1, 4, 3,3,3, 2, 6, 5,0]\n",
    "find(num_list, 6)"
   ]
  },
  {
   "cell_type": "markdown",
   "metadata": {},
   "source": [
    "## 多指针操作"
   ]
  },
  {
   "cell_type": "code",
   "execution_count": 11,
   "metadata": {},
   "outputs": [],
   "source": [
    "class Node1(object):\n",
    "    def __init__(self,data):\n",
    "        self.data = data\n",
    "        self.next = None\n",
    "        \n",
    "root, p1, p2, p3, p4, p5 = (\n",
    "    Node1(0), Node1(1), Node1(2), Node1(3), Node1(4), Node1(5))\n",
    "\n",
    "# p5的next是p2，构成环路\n",
    "root.next, p1.next, p2.next, p3.next, p4.next, p5.next = (\n",
    "    p1, p2, p3, p4, p5, p2)"
   ]
  },
  {
   "cell_type": "code",
   "execution_count": 12,
   "metadata": {},
   "outputs": [
    {
     "data": {
      "text/plain": [
       "True"
      ]
     },
     "execution_count": 12,
     "metadata": {},
     "output_type": "execute_result"
    }
   ],
   "source": [
    "def have_list_loop(root):\n",
    "    plow = pfast = root\n",
    "    while pfast and pfast.next:\n",
    "        plow = plow.next\n",
    "        pfast = pfast.next.next\n",
    "        if plow==pfast:\n",
    "            return True\n",
    "    return False\n",
    "have_list_loop(root)   "
   ]
  },
  {
   "cell_type": "markdown",
   "metadata": {},
   "source": [
    "## 链表反转"
   ]
  },
  {
   "cell_type": "code",
   "execution_count": 13,
   "metadata": {},
   "outputs": [],
   "source": [
    "root, p1, p2, p3, p4, p5 = (\n",
    "    Node1(0), Node1(1), Node1(2), Node1(3), Node1(4), Node1(5))\n",
    "\n",
    "# p5的next是p2，构成环路\n",
    "root.next, p1.next, p2.next, p3.next, p4.next = (\n",
    "    p1, p2, p3, p4, p5)"
   ]
  },
  {
   "cell_type": "code",
   "execution_count": 14,
   "metadata": {},
   "outputs": [
    {
     "name": "stdout",
     "output_type": "stream",
     "text": [
      "0,1,2,3,4,5,"
     ]
    }
   ],
   "source": [
    "def print_list(root):\n",
    "    iter_node = root\n",
    "    while iter_node:\n",
    "        print(iter_node.data, end=\",\")\n",
    "        iter_node = iter_node.next\n",
    "print_list(root)"
   ]
  },
  {
   "cell_type": "markdown",
   "metadata": {},
   "source": [
    "### 三个指针逐个翻转"
   ]
  },
  {
   "cell_type": "code",
   "execution_count": 15,
   "metadata": {},
   "outputs": [
    {
     "name": "stdout",
     "output_type": "stream",
     "text": [
      "5,4,3,2,1,0,"
     ]
    }
   ],
   "source": [
    "def reverse_list(root):\n",
    "    if not root or not root.next: \n",
    "        return root\n",
    "    #null\n",
    "    new_node = None\n",
    "    #获取头结点\n",
    "    curr_node = root\n",
    "    while curr_node:\n",
    "        #保存头结点的next节点\n",
    "        next_node = curr_node.next\n",
    "        #更新指针指向\n",
    "        curr_node.next = new_node\n",
    "        #保存当前节点\n",
    "        new_node,curr_node = curr_node,next_node\n",
    "    return new_node\n",
    "print_list(reverse_list(root))"
   ]
  },
  {
   "cell_type": "markdown",
   "metadata": {},
   "source": [
    "### 尾插法翻转"
   ]
  },
  {
   "cell_type": "code",
   "execution_count": null,
   "metadata": {},
   "outputs": [],
   "source": []
  },
  {
   "cell_type": "markdown",
   "metadata": {},
   "source": [
    "### 递归实现"
   ]
  },
  {
   "cell_type": "code",
   "execution_count": 16,
   "metadata": {},
   "outputs": [
    {
     "name": "stdout",
     "output_type": "stream",
     "text": [
      "0,"
     ]
    }
   ],
   "source": [
    "def reverse_list(head):\n",
    "    if head.next == None:\n",
    "        return head\n",
    "    new_head = reverse_list(head.next)\n",
    "    head.next.next = head# 当前节点的下一个节点指向当前节点\n",
    "    head.next = None#当前节点指向None\n",
    "    return new_head\n",
    "print_list(reverse_list(root))"
   ]
  },
  {
   "cell_type": "markdown",
   "metadata": {},
   "source": [
    "<script type=\"text/javascript\" src=\"http://cdn.mathjax.org/mathjax/latest/MathJax.js?config=default\"></script>\n",
    "## 基础排序算法\n",
    "### 测试插入数学公式\n",
    "$$x=\\frac{-b\\pm\\sqrt{b^2-4ac}}{2a}$$\n",
    "### 测试插入表格\n",
    "| 排序方法 | 时间复杂度（平均）|时间复杂度（最坏）|时间复杂度（最好） | 空间复杂度 |稳定性|复杂性|\n",
    "| :------ | :------ | :------ |:------ |:------ |:------ |:------ |\n",
    "| 直接插入排序 |$$O(n^2)$$| $$O(n^2)$$ |$$O(n)$$|$$O(1)$$|稳定|简单|\n",
    "| 希尔排序 |$$O(nlg_2n)$$| $$O(n^2)$$ |$$O(n^{1.3})$$|$$O(1)$$|不稳定|较复杂|\n",
    "| 直接选择排序 |$$O(n^2)$$| $$O(n^2)$$ |$$O(n^2)$$|$$O(1)$$|不稳定|简单|\n",
    "| 堆排序 |$$O(nlg_2n)$$| $$O(nlg_2n)$$ |$$O(nlg_2n)$$|$$O(1)$$|不稳定|较复杂|\n",
    "| 冒泡排序 |$$O(n^2)$$| $$O(n^2)$$ |$$O(n)$$|$$O(1)$$|稳定|简单|\n",
    "| 快速排序 |$$O(nlg_2n)$$| $$O(n^2)$$ |$$O(nlg_2n)$$|$$O(nlg_2n)$$|不稳定|较复杂|\n",
    "| 归并排序 |$$O(nlg_2n)$$| $$O(nlg_2n)$$ |$$O(nlg_2n)$$|$$O(n)$$|稳定|较复杂|\n",
    "| 基数排序 |$$O(d(n+r)$$| $$O(d(n+r)$$ |$$O(d(n+r)$$|$$O(d(n+r)$$|稳定|较复杂|\n"
   ]
  },
  {
   "cell_type": "markdown",
   "metadata": {},
   "source": [
    "### 递归"
   ]
  },
  {
   "cell_type": "code",
   "execution_count": 17,
   "metadata": {},
   "outputs": [],
   "source": [
    "def ret_fib(n):\n",
    "    if n<=1:\n",
    "        return 1\n",
    "    else:\n",
    "        return ret_fib(n-2)+ ret_fib(n-1)"
   ]
  },
  {
   "cell_type": "markdown",
   "metadata": {},
   "source": [
    "### LRU(Least Recently Used)"
   ]
  },
  {
   "cell_type": "code",
   "execution_count": 18,
   "metadata": {},
   "outputs": [],
   "source": [
    "class LRUCache(object):\n",
    "    def __init__(self,capacity):\n",
    "        self.capacity = capacity\n",
    "        self.values = {}\n",
    "        self.access = []\n",
    "        \n",
    "    def get(self,key):\n",
    "        if key in self.values:\n",
    "            self.access.remove(key)\n",
    "            self.access.append(key)\n",
    "            return self.values[key]\n",
    "        else:\n",
    "            return -1\n",
    "    def set(self,key,value):\n",
    "        if key in self.values:\n",
    "            self.access.remove(key)\n",
    "        elif len(self.values)>=self.capacity:\n",
    "            del self.values[self.access.pop(0)]\n",
    "        self.access.append(key)\n",
    "        self.values[key] = value"
   ]
  },
  {
   "cell_type": "code",
   "execution_count": 19,
   "metadata": {},
   "outputs": [
    {
     "name": "stdout",
     "output_type": "stream",
     "text": [
      "{5: 50, 6: 60, 7: 70, 8: 80, 9: 90} [5, 6, 7, 8, 9]\n"
     ]
    }
   ],
   "source": [
    "lru = LRUCache(5)\n",
    "for i in range(5,10):\n",
    "    lru.set(i, 10*i)\n",
    "print(lru.values, lru.access)"
   ]
  },
  {
   "cell_type": "code",
   "execution_count": 20,
   "metadata": {},
   "outputs": [
    {
     "name": "stdout",
     "output_type": "stream",
     "text": [
      "{5: 50, 6: 60, 7: 70, 8: 80, 9: 90} [6, 7, 8, 9, 5]\n"
     ]
    }
   ],
   "source": [
    "lru.get(5)\n",
    "print(lru.values, lru.access)"
   ]
  },
  {
   "cell_type": "code",
   "execution_count": 21,
   "metadata": {},
   "outputs": [
    {
     "name": "stdout",
     "output_type": "stream",
     "text": [
      "{5: 50, 7: 70, 8: 80, 9: 90, 10: 100} [7, 8, 9, 5, 10]\n"
     ]
    }
   ],
   "source": [
    "lru.set(10,100)\n",
    "print(lru.values, lru.access)"
   ]
  },
  {
   "cell_type": "markdown",
   "metadata": {},
   "source": [
    "### 二分查找"
   ]
  },
  {
   "cell_type": "code",
   "execution_count": 22,
   "metadata": {},
   "outputs": [
    {
     "data": {
      "text/plain": [
       "3"
      ]
     },
     "execution_count": 22,
     "metadata": {},
     "output_type": "execute_result"
    }
   ],
   "source": [
    "#二分查找\n",
    "def binary_search(alist, item):\n",
    "    \"\"\"二分查找 非递归方式，返回结果索引\"\"\"\n",
    "    n = len(alist)\n",
    "    start,end = 0,n-1\n",
    "    while start <=end:\n",
    "        mid = (start+end)//2\n",
    "        if alist[mid] == item:\n",
    "            return mid\n",
    "        elif alist[mid] < item:\n",
    "            start = mid +1# 排除mid这个点\n",
    "        elif alist[mid] > item:\n",
    "            end = mid -1# 排除mid这个点\n",
    "    return -1\n",
    "binary_search([1,2,3,3,3,4,5,6], 3)  \n",
    "\n"
   ]
  },
  {
   "cell_type": "code",
   "execution_count": 23,
   "metadata": {},
   "outputs": [
    {
     "data": {
      "text/plain": [
       "2"
      ]
     },
     "execution_count": 23,
     "metadata": {},
     "output_type": "execute_result"
    }
   ],
   "source": [
    "#寻找左边界\n",
    "def left_search(alist, item):\n",
    "    \"\"\"二分查找 非递归方式，返回结果索引\"\"\"\n",
    "    n = len(alist)\n",
    "    start,end = 0,n\n",
    "    while start < end:# 区别\n",
    "        mid = (start+end)//2\n",
    "        if alist[mid] == item:\n",
    "            end = mid\n",
    "        elif alist[mid] < item:\n",
    "            start = mid +1# 排除mid这个点\n",
    "        elif alist[mid] > item:\n",
    "            end = mid# 排除mid这个点\n",
    "    return start\n",
    "left_search([1,2,3,3,3,4,5,6], 3)  "
   ]
  },
  {
   "cell_type": "code",
   "execution_count": 26,
   "metadata": {},
   "outputs": [
    {
     "data": {
      "text/plain": [
       "4"
      ]
     },
     "execution_count": 26,
     "metadata": {},
     "output_type": "execute_result"
    }
   ],
   "source": [
    "#寻找左边界\n",
    "def right_search(alist, item):\n",
    "    \"\"\"二分查找 非递归方式，返回结果索引\"\"\"\n",
    "    n = len(alist)\n",
    "    start,end = 0,n\n",
    "    while start < end:# 区别\n",
    "        mid = (start+end)//2\n",
    "        if alist[mid] == item:\n",
    "            start = mid + 1\n",
    "        elif alist[mid] < item:\n",
    "            start = mid +1# 排除mid这个点\n",
    "        elif alist[mid] > item:\n",
    "            end = mid# 排除mid这个点\n",
    "    return start-1\n",
    "right_search([1,2,3,3,3,4,5,6], 3) "
   ]
  },
  {
   "cell_type": "code",
   "execution_count": null,
   "metadata": {},
   "outputs": [],
   "source": []
  }
 ],
 "metadata": {
  "kernelspec": {
   "display_name": "Python 3",
   "language": "python",
   "name": "python3"
  },
  "language_info": {
   "codemirror_mode": {
    "name": "ipython",
    "version": 3
   },
   "file_extension": ".py",
   "mimetype": "text/x-python",
   "name": "python",
   "nbconvert_exporter": "python",
   "pygments_lexer": "ipython3",
   "version": "3.7.6"
  }
 },
 "nbformat": 4,
 "nbformat_minor": 4
}
